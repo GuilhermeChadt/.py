{
 "cells": [
  {
   "cell_type": "code",
   "execution_count": 1,
   "id": "54e61b1b",
   "metadata": {},
   "outputs": [],
   "source": [
    "# Indexando strings"
   ]
  },
  {
   "cell_type": "code",
   "execution_count": 2,
   "id": "51a6b338",
   "metadata": {},
   "outputs": [
    {
     "name": "stdout",
     "output_type": "stream",
     "text": [
      "índice 6: S \n",
      " Índice 1: n \n",
      " índice 3: x \n",
      "\n",
      "O tamanho desta string é: 6\n"
     ]
    }
   ],
   "source": [
    "string_teste = \"OnixRS\"\n",
    "\n",
    "print(\"índice 6:\", string_teste[5], \"\\n\", \"Índice 1:\", string_teste[1], \"\\n\", \"índice 3:\", string_teste[3], \"\\n\")\n",
    "\n",
    "print(\"O tamanho desta string é:\", len(string_teste))"
   ]
  },
  {
   "cell_type": "code",
   "execution_count": 3,
   "id": "b2213d58",
   "metadata": {},
   "outputs": [],
   "source": [
    "# Slicing"
   ]
  },
  {
   "cell_type": "code",
   "execution_count": 4,
   "id": "c5264321",
   "metadata": {},
   "outputs": [
    {
     "data": {
      "text/plain": [
       "'nixRS'"
      ]
     },
     "execution_count": 4,
     "metadata": {},
     "output_type": "execute_result"
    }
   ],
   "source": [
    "string_teste[1:]"
   ]
  },
  {
   "cell_type": "code",
   "execution_count": 5,
   "id": "6ad62a90",
   "metadata": {},
   "outputs": [
    {
     "data": {
      "text/plain": [
       "'OnixRS'"
      ]
     },
     "execution_count": 5,
     "metadata": {},
     "output_type": "execute_result"
    }
   ],
   "source": [
    "string_teste[:]"
   ]
  },
  {
   "cell_type": "code",
   "execution_count": 6,
   "id": "d0682d50",
   "metadata": {},
   "outputs": [
    {
     "data": {
      "text/plain": [
       "'S'"
      ]
     },
     "execution_count": 6,
     "metadata": {},
     "output_type": "execute_result"
    }
   ],
   "source": [
    "string_teste[5:]"
   ]
  },
  {
   "cell_type": "code",
   "execution_count": 7,
   "id": "a3628df7",
   "metadata": {},
   "outputs": [
    {
     "data": {
      "text/plain": [
       "'On'"
      ]
     },
     "execution_count": 7,
     "metadata": {},
     "output_type": "execute_result"
    }
   ],
   "source": [
    "string_teste[:2]"
   ]
  },
  {
   "cell_type": "code",
   "execution_count": null,
   "id": "f37cd66e",
   "metadata": {},
   "outputs": [],
   "source": []
  }
 ],
 "metadata": {
  "kernelspec": {
   "display_name": "Python 3",
   "language": "python",
   "name": "python3"
  },
  "language_info": {
   "codemirror_mode": {
    "name": "ipython",
    "version": 3
   },
   "file_extension": ".py",
   "mimetype": "text/x-python",
   "name": "python",
   "nbconvert_exporter": "python",
   "pygments_lexer": "ipython3",
   "version": "3.8.8"
  }
 },
 "nbformat": 4,
 "nbformat_minor": 5
}
