{
 "cells": [
  {
   "cell_type": "code",
   "execution_count": 31,
   "id": "43d8803c",
   "metadata": {},
   "outputs": [],
   "source": [
    "var_aleatorio = 1200"
   ]
  },
  {
   "cell_type": "code",
   "execution_count": 32,
   "id": "84ec77d8",
   "metadata": {},
   "outputs": [
    {
     "name": "stdout",
     "output_type": "stream",
     "text": [
      "Valor: 1200 \n",
      " Tipo: <class 'int'>\n"
     ]
    }
   ],
   "source": [
    "print(\"Valor:\", var_aleatorio,\"\\n\",\"Tipo:\", type(var_aleatorio))"
   ]
  },
  {
   "cell_type": "code",
   "execution_count": 33,
   "id": "339bb23c",
   "metadata": {},
   "outputs": [],
   "source": [
    "pessoa1, pessoa2, pessoa3 = \"X\", \"Y\", \"Z\""
   ]
  },
  {
   "cell_type": "code",
   "execution_count": 34,
   "id": "18bb4eb6",
   "metadata": {},
   "outputs": [
    {
     "name": "stdout",
     "output_type": "stream",
     "text": [
      "Pessoa 1:  X \n",
      "Pessoa 2:  Y \n",
      "Pessoa 3:  Z\n"
     ]
    }
   ],
   "source": [
    "print(\"Pessoa 1: \", pessoa1, \"\\nPessoa 2: \", pessoa2, \"\\nPessoa 3: \", pessoa3)"
   ]
  },
  {
   "cell_type": "code",
   "execution_count": 36,
   "id": "e55d3f56",
   "metadata": {},
   "outputs": [
    {
     "name": "stdout",
     "output_type": "stream",
     "text": [
      "Segundo os dados informados, a area é de: 660\n"
     ]
    }
   ],
   "source": [
    "# Calculando área\n",
    "\n",
    "largura = 22\n",
    "altura = 30\n",
    "area = altura * largura\n",
    "\n",
    "print(\"Segundo os dados informados, a area é de:\", area)"
   ]
  },
  {
   "cell_type": "code",
   "execution_count": 37,
   "id": "58f46c22",
   "metadata": {},
   "outputs": [
    {
     "name": "stdout",
     "output_type": "stream",
     "text": [
      "Segundo os dados informados, o perímetro é de: 220\n"
     ]
    }
   ],
   "source": [
    "# Calculando perímetro\n",
    "\n",
    "altura = 50\n",
    "largura = 60\n",
    "perimetro = (altura * 2) + (largura * 2)\n",
    "\n",
    "print(\"Segundo os dados informados, o perímetro é de:\", perimetro)"
   ]
  },
  {
   "cell_type": "code",
   "execution_count": 40,
   "id": "029afeef",
   "metadata": {},
   "outputs": [
    {
     "name": "stdout",
     "output_type": "stream",
     "text": [
      "Nome completo: Steve Jobs\n"
     ]
    }
   ],
   "source": [
    "# Concatenação de variáveis\n",
    "\n",
    "nome = \"Steve\"\n",
    "sobrenome = \"Jobs\"\n",
    "nome_completo = nome + ' ' + sobrenome\n",
    "\n",
    "print(\"Nome completo:\", nome_completo)"
   ]
  },
  {
   "cell_type": "code",
   "execution_count": null,
   "id": "3fbeaaf0",
   "metadata": {},
   "outputs": [],
   "source": []
  }
 ],
 "metadata": {
  "kernelspec": {
   "display_name": "Python 3",
   "language": "python",
   "name": "python3"
  },
  "language_info": {
   "codemirror_mode": {
    "name": "ipython",
    "version": 3
   },
   "file_extension": ".py",
   "mimetype": "text/x-python",
   "name": "python",
   "nbconvert_exporter": "python",
   "pygments_lexer": "ipython3",
   "version": "3.8.8"
  }
 },
 "nbformat": 4,
 "nbformat_minor": 5
}
